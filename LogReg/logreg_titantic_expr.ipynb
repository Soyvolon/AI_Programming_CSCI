{
 "cells": [
  {
   "attachments": {},
   "cell_type": "markdown",
   "metadata": {},
   "source": [
    "# Titanic LogReg Experiments\n",
    "*By: A. Bounds*"
   ]
  },
  {
   "attachments": {},
   "cell_type": "markdown",
   "metadata": {},
   "source": [
    "## Env Setup\n",
    "Firstly, we need to import our needed packages."
   ]
  },
  {
   "cell_type": "code",
   "execution_count": 2,
   "metadata": {},
   "outputs": [],
   "source": [
    "import pandas as pd\n",
    "from sklearn.linear_model import LogisticRegression\n",
    "from sklearn.model_selection import train_test_split\n",
    "from sklearn.metrics import confusion_matrix\n",
    "from sklearn.metrics import accuracy_score"
   ]
  },
  {
   "attachments": {},
   "cell_type": "markdown",
   "metadata": {},
   "source": [
    "### Features\n",
    "The full list of features can be described in this segment of code, where each individual feature is take from this."
   ]
  },
  {
   "cell_type": "code",
   "execution_count": 3,
   "metadata": {},
   "outputs": [],
   "source": [
    "titanic_data = pd.read_csv(\"titanic_train.csv\")\n",
    "all_features = titanic_data[[\"PassengerId\", \"Pclass\", \"Name\", \"Sex\", \\\n",
    "                            \"Age\", \"SibSp\", \"Parch\", \"Ticket\", \"Fare\", \"Cabin\", \\\n",
    "                            \"Embarked\"]]"
   ]
  },
  {
   "attachments": {},
   "cell_type": "markdown",
   "metadata": {},
   "source": [
    "### Test Runner\n",
    "Our little bit of code to test each set of features."
   ]
  },
  {
   "cell_type": "code",
   "execution_count": 21,
   "metadata": {},
   "outputs": [],
   "source": [
    "def test_feature_set(features, target):\n",
    "    feature_train, feature_test, target_train, target_test = train_test_split(features, target, test_size=0.3)\n",
    "\n",
    "    # feature_train.reshape(-1, 1)\n",
    "    # feature_test.reshape(-1, 1)\n",
    "\n",
    "    model = LogisticRegression()\n",
    "    model.fit = model.fit(feature_train, target_train)\n",
    "\n",
    "    preds = model.fit.predict(feature_test)\n",
    "\n",
    "    print(\"Confusion Matrix: \")\n",
    "    print(confusion_matrix(target_test, preds))\n",
    "\n",
    "    print(\"\\nAccuracy Score: \")\n",
    "    print(accuracy_score(target_test, preds))"
   ]
  },
  {
   "attachments": {},
   "cell_type": "markdown",
   "metadata": {},
   "source": [
    "## Test Cases\n",
    "Next up, lets build some tests.\n",
    "\n",
    "### Passenger ID"
   ]
  },
  {
   "cell_type": "code",
   "execution_count": 22,
   "metadata": {},
   "outputs": [
    {
     "name": "stdout",
     "output_type": "stream",
     "text": [
      "Confusion Matrix: \n",
      "[[168   0]\n",
      " [100   0]]\n",
      "\n",
      "Accuracy Score: \n",
      "0.6268656716417911\n"
     ]
    }
   ],
   "source": [
    "features = titanic_data[[\"PassengerId\"]]\n",
    "target = titanic_data.Survived\n",
    "\n",
    "test_feature_set(features, target)"
   ]
  },
  {
   "attachments": {},
   "cell_type": "markdown",
   "metadata": {},
   "source": [
    "### P Class"
   ]
  },
  {
   "cell_type": "code",
   "execution_count": 23,
   "metadata": {},
   "outputs": [
    {
     "name": "stdout",
     "output_type": "stream",
     "text": [
      "Confusion Matrix: \n",
      "[[139  26]\n",
      " [ 62  41]]\n",
      "\n",
      "Accuracy Score: \n",
      "0.6716417910447762\n"
     ]
    }
   ],
   "source": [
    "features = titanic_data[[\"Pclass\"]]\n",
    "target = titanic_data.Survived\n",
    "\n",
    "test_feature_set(features, target)"
   ]
  },
  {
   "attachments": {},
   "cell_type": "markdown",
   "metadata": {},
   "source": [
    "### Sex"
   ]
  },
  {
   "cell_type": "code",
   "execution_count": 27,
   "metadata": {},
   "outputs": [
    {
     "name": "stdout",
     "output_type": "stream",
     "text": [
      "Confusion Matrix: \n",
      "[[127  29]\n",
      " [ 37  75]]\n",
      "\n",
      "Accuracy Score: \n",
      "0.753731343283582\n"
     ]
    }
   ],
   "source": [
    "features = titanic_data[[\"Sex\"]].applymap(lambda x: int(x == \"male\"))\n",
    "target = titanic_data.Survived\n",
    "\n",
    "test_feature_set(features, target)"
   ]
  },
  {
   "attachments": {},
   "cell_type": "markdown",
   "metadata": {},
   "source": [
    "### Age"
   ]
  },
  {
   "cell_type": "code",
   "execution_count": 30,
   "metadata": {},
   "outputs": [],
   "source": [
    "def int_mapper(x):\n",
    "    try:\n",
    "        return int(x)\n",
    "    except:\n",
    "        return -1"
   ]
  },
  {
   "cell_type": "code",
   "execution_count": 31,
   "metadata": {},
   "outputs": [
    {
     "name": "stdout",
     "output_type": "stream",
     "text": [
      "Confusion Matrix: \n",
      "[[164   0]\n",
      " [104   0]]\n",
      "\n",
      "Accuracy Score: \n",
      "0.6119402985074627\n"
     ]
    }
   ],
   "source": [
    "features = titanic_data[[\"Age\"]].applymap(int_mapper, na_action=None)\n",
    "target = titanic_data.Survived\n",
    "\n",
    "test_feature_set(features, target)"
   ]
  },
  {
   "attachments": {},
   "cell_type": "markdown",
   "metadata": {},
   "source": [
    "### SibSp"
   ]
  },
  {
   "cell_type": "code",
   "execution_count": 32,
   "metadata": {},
   "outputs": [
    {
     "name": "stdout",
     "output_type": "stream",
     "text": [
      "Confusion Matrix: \n",
      "[[162   0]\n",
      " [106   0]]\n",
      "\n",
      "Accuracy Score: \n",
      "0.6044776119402985\n"
     ]
    }
   ],
   "source": [
    "features = titanic_data[[\"SibSp\"]]\n",
    "target = titanic_data.Survived\n",
    "\n",
    "test_feature_set(features, target)"
   ]
  },
  {
   "attachments": {},
   "cell_type": "markdown",
   "metadata": {},
   "source": [
    "### Parch"
   ]
  },
  {
   "cell_type": "code",
   "execution_count": 33,
   "metadata": {},
   "outputs": [
    {
     "name": "stdout",
     "output_type": "stream",
     "text": [
      "Confusion Matrix: \n",
      "[[177   2]\n",
      " [ 87   2]]\n",
      "\n",
      "Accuracy Score: \n",
      "0.667910447761194\n"
     ]
    }
   ],
   "source": [
    "features = titanic_data[[\"Parch\"]]\n",
    "target = titanic_data.Survived\n",
    "\n",
    "test_feature_set(features, target)"
   ]
  },
  {
   "attachments": {},
   "cell_type": "markdown",
   "metadata": {},
   "source": [
    "### Fare"
   ]
  },
  {
   "cell_type": "code",
   "execution_count": 34,
   "metadata": {},
   "outputs": [
    {
     "name": "stdout",
     "output_type": "stream",
     "text": [
      "Confusion Matrix: \n",
      "[[148  11]\n",
      " [ 84  25]]\n",
      "\n",
      "Accuracy Score: \n",
      "0.6455223880597015\n"
     ]
    }
   ],
   "source": [
    "features = titanic_data[[\"Fare\"]]\n",
    "target = titanic_data.Survived\n",
    "\n",
    "test_feature_set(features, target)"
   ]
  },
  {
   "attachments": {},
   "cell_type": "markdown",
   "metadata": {},
   "source": [
    "### Cabin"
   ]
  },
  {
   "cell_type": "code",
   "execution_count": 35,
   "metadata": {},
   "outputs": [],
   "source": [
    "def str_to_int(x):\n",
    "    try:\n",
    "        return sum([ord(c) for c in x])\n",
    "    except:\n",
    "        return -1"
   ]
  },
  {
   "cell_type": "code",
   "execution_count": 36,
   "metadata": {},
   "outputs": [
    {
     "name": "stdout",
     "output_type": "stream",
     "text": [
      "Confusion Matrix: \n",
      "[[142  25]\n",
      " [ 60  41]]\n",
      "\n",
      "Accuracy Score: \n",
      "0.6828358208955224\n"
     ]
    }
   ],
   "source": [
    "features = titanic_data[[\"Cabin\"]].applymap(str_to_int, na_action=None)\n",
    "target = titanic_data.Survived\n",
    "\n",
    "test_feature_set(features, target)"
   ]
  },
  {
   "attachments": {},
   "cell_type": "markdown",
   "metadata": {},
   "source": [
    "### Embarked"
   ]
  },
  {
   "cell_type": "code",
   "execution_count": 37,
   "metadata": {},
   "outputs": [
    {
     "name": "stdout",
     "output_type": "stream",
     "text": [
      "Confusion Matrix: \n",
      "[[155  17]\n",
      " [ 67  29]]\n",
      "\n",
      "Accuracy Score: \n",
      "0.6865671641791045\n"
     ]
    }
   ],
   "source": [
    "features = titanic_data[[\"Embarked\"]].applymap(str_to_int, na_action=None)\n",
    "target = titanic_data.Survived\n",
    "\n",
    "test_feature_set(features, target)"
   ]
  },
  {
   "attachments": {},
   "cell_type": "markdown",
   "metadata": {},
   "source": [
    "### Remarks on Excluded Data\n",
    "Some of the data, such as the passengers name or ticket, were excluded from these tests. It was determined it would be pointless to check these data values. For example, what use would a person name be, used all on it's own, to determine if a person had a likelihood of survival? There isn't any, so it wasn't tested."
   ]
  },
  {
   "attachments": {},
   "cell_type": "markdown",
   "metadata": {},
   "source": [
    "## Results\n",
    "The best estimation, by the tests conducted here, lies with the Sex of the passenger."
   ]
  },
  {
   "cell_type": "code",
   "execution_count": 38,
   "metadata": {},
   "outputs": [
    {
     "name": "stdout",
     "output_type": "stream",
     "text": [
      "Confusion Matrix: \n",
      "[[138  26]\n",
      " [ 37  67]]\n",
      "\n",
      "Accuracy Score: \n",
      "0.7649253731343284\n"
     ]
    }
   ],
   "source": [
    "features = titanic_data[[\"Sex\"]].applymap(lambda x: int(x == \"male\"))\n",
    "target = titanic_data.Survived\n",
    "\n",
    "test_feature_set(features, target)"
   ]
  },
  {
   "attachments": {},
   "cell_type": "markdown",
   "metadata": {},
   "source": [
    "As seen above, the accuracy score is much higher than most other results (~`0.65`) and demonstrates a correlation between the Sex of the passenger and their survival of the sinking of the titanic."
   ]
  },
  {
   "attachments": {},
   "cell_type": "markdown",
   "metadata": {},
   "source": [
    "## Conclusions\n",
    "Firstly, I would like to make a comment on the usage of a single point of data to determine a correlation. It doesn't make much sense, and I'm sure that if I tested this dataset with more than just the Sex of the passenger, there would be an even stronger correlation to be found. As it stands, however, the results of this set of testing are very clear.\n",
    "\n",
    "The Sex of the passenger makes sense in this instance, especially if you reflect back to the time period in which the ship sunk. Having the women and children get off the ship first would have been a priority for those onboard.\n",
    "\n",
    "Overall, there isn't anything too interesting in this dataset. It lines up with my own conclusions and doesn't take me much to look understand why."
   ]
  }
 ],
 "metadata": {
  "kernelspec": {
   "display_name": "Python 3",
   "language": "python",
   "name": "python3"
  },
  "language_info": {
   "codemirror_mode": {
    "name": "ipython",
    "version": 3
   },
   "file_extension": ".py",
   "mimetype": "text/x-python",
   "name": "python",
   "nbconvert_exporter": "python",
   "pygments_lexer": "ipython3",
   "version": "3.10.8"
  },
  "orig_nbformat": 4
 },
 "nbformat": 4,
 "nbformat_minor": 2
}
